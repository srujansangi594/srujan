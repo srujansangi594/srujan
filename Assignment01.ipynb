{
 "cells": [
  {
   "cell_type": "code",
   "execution_count": null,
   "id": "ae936678-7a63-452a-8046-9231e73f7289",
   "metadata": {},
   "outputs": [],
   "source": [
    "# Declare variables of different data types\n",
    "integer_var = 10         # Integer\n",
    "float_var = 20.5         # Float\n",
    "string_var = \"Hello\"     # String\n",
    "boolean_var = True       # Boolean\n",
    "\n",
    "# Print each variable and its type\n",
    "print(\"Integer Value:\", integer_var, \"| Type:\", type(integer_var))\n",
    "print(\"Float Value:\", float_var, \"| Type:\", type(float_var))\n",
    "print(\"String Value:\", string_var, \"| Type:\", type(string_var))\n",
    "print(\"Boolean Value:\", boolean_var, \"| Type:\", type(boolean_var))\n"
   ]
  }
 ],
 "metadata": {
  "kernelspec": {
   "display_name": "Python [conda env:base] *",
   "language": "python",
   "name": "conda-base-py"
  },
  "language_info": {
   "codemirror_mode": {
    "name": "ipython",
    "version": 3
   },
   "file_extension": ".py",
   "mimetype": "text/x-python",
   "name": "python",
   "nbconvert_exporter": "python",
   "pygments_lexer": "ipython3",
   "version": "3.12.7"
  }
 },
 "nbformat": 4,
 "nbformat_minor": 5
}
